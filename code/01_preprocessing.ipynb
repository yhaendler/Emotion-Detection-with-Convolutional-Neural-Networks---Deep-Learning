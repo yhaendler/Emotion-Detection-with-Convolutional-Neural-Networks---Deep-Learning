{
 "cells": [
  {
   "cell_type": "markdown",
   "id": "7bf033a3-0a0c-44cc-b95d-64703fdca798",
   "metadata": {},
   "source": [
    "### Changing the image file names"
   ]
  },
  {
   "cell_type": "code",
   "execution_count": null,
   "id": "f0367adc-f01a-4ff3-abb2-5efd460707fb",
   "metadata": {},
   "outputs": [],
   "source": [
    "# The image files originally had long complex names, so we just read the files, change their names and\n",
    "# re-save them into the folder"
   ]
  },
  {
   "cell_type": "code",
   "execution_count": 88,
   "id": "844fc644-7379-4ab4-8b75-94a57060835c",
   "metadata": {},
   "outputs": [
    {
     "data": {
      "text/plain": [
       "True"
      ]
     },
     "execution_count": 88,
     "metadata": {},
     "output_type": "execute_result"
    }
   ],
   "source": [
    "# list of files from happy folder\n",
    "happy = os.listdir('../datasets/happy')\n",
    "\n",
    "# if there are ipynb files - remove them\n",
    "for index,file in enumerate(happy):\n",
    "    if 'ipynb' in file:\n",
    "        happy = happy[:index] + happy[index+1:]\n",
    "\n",
    "# the files have long and annoying names - rename files\n",
    "for i in range(len(happy)):\n",
    "    old_file = os.path.join('../datasets/happy/', f'{happy[i]}')\n",
    "    new_file = os.path.join('../datasets/happy/', f'happy_{i+1}.jpeg')\n",
    "    os.rename(old_file, new_file)\n",
    "    \n",
    "# check number of files - should be 1000\n",
    "len(happy) == 1000"
   ]
  },
  {
   "cell_type": "code",
   "execution_count": 89,
   "id": "e4f6c760-6922-4f29-927f-239c66fc71ab",
   "metadata": {},
   "outputs": [
    {
     "data": {
      "text/plain": [
       "True"
      ]
     },
     "execution_count": 89,
     "metadata": {},
     "output_type": "execute_result"
    }
   ],
   "source": [
    "# list of files from neutral folder\n",
    "neutral = os.listdir('../datasets/neutral')\n",
    "\n",
    "# if there are ipynb files - remove them\n",
    "for index,file in enumerate(neutral):\n",
    "    if 'ipynb' in file:\n",
    "        neutral = neutral[:index] + neutral[index+1:]\n",
    "\n",
    "# the files have long and annoying names - rename files\n",
    "for i in range(len(neutral)):\n",
    "    old_file = os.path.join('../datasets/neutral/', f'{neutral[i]}')\n",
    "    new_file = os.path.join('../datasets/neutral/', f'neutral_{i+1}.jpeg')\n",
    "    os.rename(old_file, new_file)\n",
    "    \n",
    "# check number of files - should be 1000\n",
    "len(neutral) == 1000"
   ]
  }
 ],
 "metadata": {
  "kernelspec": {
   "display_name": "Python 3",
   "language": "python",
   "name": "python3"
  },
  "language_info": {
   "codemirror_mode": {
    "name": "ipython",
    "version": 3
   },
   "file_extension": ".py",
   "mimetype": "text/x-python",
   "name": "python",
   "nbconvert_exporter": "python",
   "pygments_lexer": "ipython3",
   "version": "3.8.8"
  }
 },
 "nbformat": 4,
 "nbformat_minor": 5
}
